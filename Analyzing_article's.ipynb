{
  "nbformat": 4,
  "nbformat_minor": 0,
  "metadata": {
    "colab": {
      "provenance": [],
      "gpuType": "A100",
      "authorship_tag": "ABX9TyMLkYj6l4RoG3ZL7Xb4gP0z",
      "include_colab_link": true
    },
    "kernelspec": {
      "name": "python3",
      "display_name": "Python 3"
    },
    "language_info": {
      "name": "python"
    },
    "accelerator": "GPU",
    "widgets": {
      "application/vnd.jupyter.widget-state+json": {
        "0d3314ce9ccf4441876c3a31037116d6": {
          "model_module": "@jupyter-widgets/controls",
          "model_name": "DropdownModel",
          "model_module_version": "1.5.0",
          "state": {
            "_dom_classes": [],
            "_model_module": "@jupyter-widgets/controls",
            "_model_module_version": "1.5.0",
            "_model_name": "DropdownModel",
            "_options_labels": [
              "10000 - A new method for the determination of alpha1-protease inhibitor (alpha1-antitrypsin) phenotypes based on the formation of alpha1-protease inhibitor allele product-elastase complexes.",
              "10015 - [Spectral effects of denaturation of B- and C-phycoerythrins].",
              "10031 - GABA antagonism as a possible basis for the convulsant action of a series of bicyclic phosphorus esters [proceedings].",
              "10038 - Fresh symptom emergence after intensive behaviour therapy.",
              "10046 - Behaviourism: a framework for common sense therapy.",
              "12075 - Peptidase inactivation of hypothalamic releasing hormones.",
              "10049 - Further characterization of morphine-like peptides (endorphins) from pituitary.",
              "10053 - Alterations of brain neurotransmitter receptor binding in Huntington's chorea.",
              "10070 - Factors affecting rate of methane formation from acetic acid by enriched methanogenic cultures.",
              "10093 - Isolation and identification of benzodiazepine drugs and their metabolites in urine by use of Amberlite XAD-2 resin and thin-layer chromatography.",
              "10107 - Increased tryptaminuria after an acid load.",
              "10108 - Determination of isoenzyme contents of lactic dehydrogenase activity and 2-hydroxybutyric dehydrogenase activity in lactic dehydrogenase preparations.",
              "10112 - A simple, rapid method for prenatal detection of defects in propionate metabolism.",
              "10119 - Age and genetic influence on immunity in NZB and autoimmune-resistant mice.",
              "10120 - Formation of mouse red cell rosettes by lymphocytes from patients with chronic lymphatic leukemia and assessment of T cell function.",
              "10164 - Plasma and brain amino acids in fulminant hepatic failure and their relationship to hepatic encephalopathy.",
              "10167 - B cell tolerance induced by polymeric antigens. I. Comparison of the dose and epitope density requirements for inactivation of primed and unprimed B cells in vivo.",
              "10202 - Outpatient culdoscopic sterilization: an evaluation.",
              "10203 - The use of tranexamic acid (AMCA) in IUDs as an anti-bleeding agent.",
              "10206 - The physical work capacity of the expectant mother and its effect on pregnancy, labor and the newborn.",
              "10211 - Effect of dexamethasone on blood levels of ACTH, cortisol, progesterone, estradiol and estriol during late pregnancy.",
              "11217 - Temperature dependence of cholesterol binding to cytochrome P-450scc of the rat adrenal. Effect of adrenocorticotropic hormone and cycloheximide.",
              "10217 - A sensitive method for measuring haemoglobin in gastric contents.",
              "10221 - The estimation of gastric secretory capacity by the telemetering method of pH-sensitive radiocapsule.",
              "10222 - Effect of salts on the kinetic parameters and thermal stability of bovine brain acid phosphatase.",
              "10226 - Effect of colchicine and vinblastine on crayfish neuromuscular junction.",
              "10228 - Adenylate cyclase activity in chick retina.",
              "10237 - [Purpura. Classification, clinical picture and etiology from the point of view of the dermatologist. 3. Dermatologically relevant types of purpura. 2].",
              "10262 - The effect of miotics on the intraocular pressure of conscious owl monkeys.",
              "10281 - Inorganic nitrogen assimilation by the photosynthetic bacterium Rhodopseudomonas capsulata.",
              "10304 - Conversion of proparathyroid hormone to parathyroid hormone by a particulate enzyme of the parathyroid gland.",
              "10311 - Lysosomal hydrolase secretion by Tetrahymena: a comparison of several intralysosomal enzymes with the isoenzymes released into the medium.",
              "10337 - The pharmacology and therapeutic use of antihistamines.",
              "10345 - Role of wall phosphomannan in flocculation of Saccharomyces cerevisiae.",
              "10358 - Effects of stock or purified diet on rat liver enzymes involved in the synthesis of dimethyl selenide.",
              "10363 - The formation of a platelet adhesive factor by disruption of the creatine phosphokinase molecule.",
              "10367 - Pharmacological studies with adenine, adenosine and some phosphorylated derivatives on guinea-pig tracheal muscle.",
              "10387 - 5-Hydroxytryptamine is a substrate for both species of monoamine oxidase in beef heart mitochondria.",
              "10403 - Does cocaine have a post-synaptic action on rat anococcygeus muscle?",
              "10416 - Kinetics and mechanisms of hydrolysis of 1,4-benzodiazepines I: chlordiazepoxide and demoxepam.",
              "10426 - A polypeptide (AP-A) from sea anemone (Anthopleura xanthogrammica) with potent positive inotropic action.",
              "10428 - Interactions between narcotic analgesics and benzodiazepine derivatives on behavior in the mouse.",
              "10429 - Precipitation of abstinence-like syndrome in morphine-dependent mice by pargyline.",
              "10446 - Structure of the single-stranded polyribonucleotide polycytidylic acid.",
              "10447 - Properties of two isolated antigens associated with bovine leukemia virus infection.",
              "10469 - [Dynamics of the indices of intragastric pH measurement after the taking of Borzhomi mineral water].",
              "16981 - [Standard method for the determination of creatine kinase activity].",
              "10483 - [Substitution of the frontal bone with silicon].",
              "10486 - [Substitution of an injured finger joint by silicone rubber prosthesis].",
              "10506 - Effect of hydrogen ion buffers on photosynthetic oxygen evolution in the blue-green alga, Agmenellum quadruplicatum.",
              "10520 - Hospitals coordinate emergency services with communications network.",
              "10530 - [Is the eradication of malaria an utopia?].",
              "10533 - Interaction of salicylate and body temperature changes caused by injections of neurohumours into the anterior hypothalamus: possible mechanisms in salicylate antipyresis.",
              "15110 - Cathepsin D activity in bovine articular cartilage, synovial membrane and fluid: degradation of cartilage proteoglycans from same joint.",
              "10534 - Induction of tyrosine-3-monooxygenase in superior cervical ganglia after axotomy of postganglionic nerves.",
              "10538 - Correlation of the oxytocin challenge test with perinatal outcome.",
              "10544 - [Neuroaminergic control of anterior pituitary secretions (author's transl)].",
              "10557 - [The physiological neurotransmitter with morphine-like activity].",
              "10606 - Characterization and induction of aryl hydrocarbon (benzo(a)pyrene) hydroxylase in rabbit bone marrow.",
              "10625 - Enkephalin-induced depression of single neurons in brain areas with opiate receptors--antagonism by naloxone.",
              "10635 - [Certain clinical and theoretical aspects of treatment of cardiac insufficiency].",
              "10637 - Reactivity of fibrinogen crosslinking sites in the absence of thrombin.",
              "17932 - Sensitization against non-HLA antigens following bone marrow graft rejection.",
              "10640 - [Sudden death in coronary heart disease].",
              "10716 - A new pattern of multiple endocrine adenomatosis: chemodectoma, bronchial carcinoid, GH-producing pituitary adenoma, and hyperplasia of the parathyroid glands, and antral and duodenal gastrin cells.",
              "10717 - Multiple endocrine adenomatosis of mixed type.",
              "18444 - Purification and properties of trehalase from rat intestinal mucosal cells.",
              "10743 - Self-induced depersonalization syndrome.",
              "12305 - Oxidation of microencapsulated oils [proceedings].",
              "10745 - Fatal aspiration.",
              "10756 - Chemical instability of [2-14C] uric acid in alkaline solution: the effect on observed kinetics of urate transport in human erythrocytes.",
              "10766 - [Allergy and anesthesia: environment and psychological factors].",
              "10776 - [Does local regional anesthesia exert an immunosuppressive effect?].",
              "10777 - [Diagnosis of drug allergies related to anesthesia and surgery].",
              "10779 - [A study of allergy to local anesthetics using the lymphoblast transformation test].",
              "10793 - [Epidurography in the continuous peridural anesthesia technic in geriatric surgery].",
              "10802 - [General anesthesia for multiple dental extractions].",
              "10808 - [Significance of Alfatesine in anesthesia for multiple dental extractions before major cardiac surgery].",
              "10811 - [Anesthesia and pre- and postoperative resuscitation in massive maxillofacial destruction].",
              "10844 - Growth and toxin production by Clostridium botulinum in moldy tomato juice.",
              "10847 - Purification, properties, and kinetic observations on the isoenzymes of NADP isocitrate dehydrogenase of maize.",
              "10872 - [Physico-chemical properties of swine vesicular disease virus].",
              "10888 - Organ distribution of rat histidine-pyruvate aminotransferase isoenzymes.",
              "10903 - Two different gamma-glutamyltransferases during development of liver and small intestine: a fetal (sialo-) and an adult (asialo-) glycoprotein.",
              "10908 - A fluorescent photo-affinity label for cyclic AMP binding proteins.",
              "10949 - Pharmacological effects of labetalol in man.",
              "10952 - Labetalol, a new alpha- and beta-adrenoreceptor blocking agent, in hypertension.",
              "10957 - Solubilization, partial purification and radioassay for the intrinsic factor receptor from the ileal mucosa.",
              "11005 - The lasat mouse: a new model for transplantation of human tissues.",
              "11007 - Physical characteristics of porous cellulose beads as supporting material for immobilized enzymes.",
              "11009 - Hereditary aspects of ovarian and testicular neoplasia.",
              "11012 - [Analysis of the structure of the components of the convulsive action of corazole following administration of sulazepam and its metabolites to mice].",
              "11022 - Effects of p-chloro-beta-phenylethylamine on the uptake and release of putative amine neurotransmitters in rat brain [proceedings].",
              "11029 - The relationship of the serum gastrin and calcium concentrations in patients with multiple endocrine neoplasia type I.",
              "11044 - Cariostatic mechanisms of fluorides: clinical observations.",
              "11062 - Flight muscle contraction in relations to ambient temperature in some species of desert bats.",
              "11125 - The effect of alkaline pH on chloroplasm photosystem I reactions at cryogenic temperature.",
              "11136 - Reduction of the graft-versus-host reactivity of mouse and rat spleen cells by 5alpha-androstane-3,17-dione.",
              "16816 - [The regulation of FSH release by the testis. Studies on inhibin].",
              "11137 - The sensitivity of chromatin from thymuses and spleens of irradiated mice to alkaline solutions.",
              "11179 - [Approach to a practical method for screening and identifying microorganism genera from urine (author's transl)].",
              "18630 - Stimulative effects of chelating agents, 2,2'-bipyridine and 1,10-phenanthroline, on lipid peroxidation in rat liver microsomes.",
              "11180 - Slow reacting substance as a preformed mediator from human lung.",
              "11184 - Macromolecular binding of estradiol in the rat liver:part II-the soluble cytoplasmic binding component.",
              "11202 - Antibacterial activity of ambodryl and benadryl.",
              "11212 - Hydrogen ion interactions of horse spleen ferritin and apoferritin.",
              "11298 - Prolactin in cerebrospinal fluid and dopamine function in man.",
              "11302 - On the relation between the analgesic activity of meptazinol and its plasma concentrations in rats, mice and monkeys.",
              "11303 - Pharmacological differences of non-adrenergic inhibitory response and of ATP-induced relaxation in guineq-pig tracheal strip-chains.",
              "11304 - Actions of amfonelic acid and other non-amphetamine stimulants on the dopamine neuron.",
              "11307 - Effects of various diuretic agents in the mouse.",
              "11310 - A comparative study of the effect of bile salts on the absorption of quinalbarbitone sodium in goldfish.",
              "12058 - Deoxyribonucleic acid polymerase from Chlamydomonas reinhardii.",
              "11334 - Effect of topically applied pilocarpine on tear film pH.",
              "11344 - Polyarteritis nodosa in the acute abdomen.",
              "11349 - Ca binding to the human red cell membrane: characterization of membrane preparations and binding sites.",
              "11356 - Medex and their physician preceptors. Quality of care.",
              "17187 - Effect on GVH disease of in vitro donor cell pretreatment with rabbit antisera against various mouse lymphoid tissues.",
              "11362 - Influence of transepithelial potential difference on acidification in the toad urinary bladder.",
              "11381 - Fasting does not abolish the diurnal oscillation of ornithine decarboxylase activity in Morris hepatoma",
              "16472 - Experiments on trypanosome transmission by Auchmeromyia larvae. Preliminary note.",
              "11403 - Calculated gamble with self-insurance can pay off for confident hospitals.",
              "11424 - [Controlled clinical trial of parsalmide in patients with predominantly neuro-anxiety syndromes. Comparison with chlordiazepoxide].",
              "12990 - Relaxation of coronary artery strips by adenosine and acidosis.",
              "11432 - Polyarteritis nodosa induced in arteriosclerotic, male and female breeder rats by chronic alloxan diabetes.",
              "11455 - The elective treatment of graft-versus-host disease following a bone marrow graft from a father to a son with severe combined immunodeficiency.",
              "15484 - [Use of constant perithoracic negative pressure in the transport of newborn infants with severe forms of idiopathic respiratory distress].",
              "11458 - [Polyneuropathy and big blood sedimentation in a 64 years old woman].",
              "11473 - Postsynaptic release of adenosine triphosphate induced by single impulse transmitter action.",
              "11475 - Effect of altered thyroid status induced by thyroid hormones, goitrogens and diet on intestinal electrogenic valine transfer.",
              "11483 - Growth and development in high altitude populations: a review of Ethiopian, Peruvian, and Nepalese studies.",
              "11484 - On the latency and form of the membrane responses of smooth muscle to the iontophoretic application of acetylcholine or carbachol.",
              "11581 - Mechanisms in graft-versus-host reactions: an immunogenetic appraisal.",
              "11583 - The role of microflora in development of graft-versus-host disease.",
              "11586 - Marrow grafts in LD--SD typed dogs treated with cyclophosphamide.",
              "11604 - The diagnosis of liver dysfunction in farm animals and horses.",
              "11621 - [On the effect of particulate airborne substances on various micro-organisms (author's transl)].",
              "12713 - Effect of beta-blockade during bowling competitions.",
              "11653 - [Late spermatological results in surgically treated cryptorchism].",
              "11658 - [Changes in the blood pictureof the red goat of Maradi as a function of its gastrointestinal parasitism].",
              "11660 - [Distribution and ecology of Ixodes trianguliceps (Birula,",
              "11664 - Studies on the characteristics of Poliovirus type 3. III. Strain characteristics after passage in man.",
              "11685 - Pharmacology and therapeutic use of antihistamines.",
              "11698 - Properties of toad skin Na-K-ATPase with special reference to effect of temperature.",
              "11706 - Assay errors of cyclic 3', 5'-nucleotide phosphodiesterase activity based on the recovery of adenosine alone using an anionic-exchange resin column.",
              "11707 - A continuous spectrophotometric assay for argininosuccinate synthetase based on pyrophosphate formation.",
              "11725 - [Anesthesia and the postoperative period in non-urgent tracheal surgery. Apropos of 36 patients].",
              "11727 - [Tracheobronchial ruptures seen in emergencies. Viewpoint of the anesthesiologist].",
              "11736 - [Carbohydrate and pyruvic acid degradation pathways in Fusidium coccineum strains with varying levels of antibiotic synthesis].",
              "11746 - [Upper cerebral vertebrae. Regional morphology, pathology and traumatology, practical x-ray atlas and taxonomy].",
              "11751 - Glucose-6-phosphate dehydrogenase from Leuconostoc mesenteroides. Interaction of the enzyme with coenzymes and coenzyme analogs.",
              "11754 - Changes in the interstitial fluid and the muscle water in rabbits in hemorrhagic shock.",
              "11759 - Spectral density analysis of the effects of barbiturates and benzodiazepines on the electrocorticogram of the squirrel monkey.",
              "11773 - Purification and properties of arylsulphatase A from rabbit testis.",
              "11782 - The kinetics and mechanism of the recombination reaction between apomyoglobin and haemin.",
              "11812 - Characterization of the recombination reaction of rhodopsin.",
              "11815 - Energy tranduction in photosynthetic bacteria. XI. Further resolution of cytochromes of b type and the nature of the co-sensitive oxidase present in the respiratory chain of Rhodopseudomonas capsulata.",
              "11824 - Fluorescence properties of 2' (or 3')-O-(2,4,6-trinitrophenyl) adenosine 5'-triphosphate and its use in the study of binding to heavy meromyosin ATPase.",
              "11829 - Hemoglobin Fannin-Lubbock [alpha 2 beta 2 119(GH2) Gly replaced by Asp]. A slightly unstable mutant.",
              "11833 - Altered leucyl-transfer RNA synthetase from a mammalian cell culture mutant.",
              "11855 - Pilot scale investigations and economics of cellulase production.",
              "11872 - Development of neurotransmitter uptake in regions of the chick brain.",
              "11876 - Alkaline phosphatase activity, characterization, and subcellular distribution during initial skeletogenesis in the prenatal rat limb.",
              "11883 - The fusion of erythrocytes by treatment with proteolytic enzymes and polyethylene glycol.",
              "11899 - Relation of pH to fluorescence of serotonin, melatonin, and other indole compounds reacted with o-phthaldialdehyde.",
              "11907 - Studies on gamma-glutamyl transpeptidase of human urine.",
              "11956 - Action of crude and fractioned homogenates of the midgut gland of the sea hare Aplysia brasiliana Rang,",
              "11957 - Structure-activity relationships of GABA and its relatives on the excitability of an identified molluscan giant neurone (Achatina fulica Férussac).",
              "11963 - The role of HCO3-stimulated ATPase in buffer transport.",
              "11983 - [Cardiotoxicity of bromoureides].",
              "11986 - [Alcohol-psychotropic drug interactions].",
              "11995 - In vivo measurements of oxyhaemoglobin saturation by a fiberoptic catheter. The effects of variations in pH and haematocrit.",
              "11997 - Further evidence implicating E-type prostaglandins in the patency of the lamb ductus arteriosus.",
              "12010 - A new substrate for enteropeptidase.",
              "12026 - [Activities of health feldshers and laboratory councils].",
              "12040 - Effect of hormones on the activity of acetyl-coenzyme A carboxylase in explants of mammary gland from mid-pregnant rabbits.",
              "12052 - Physical studies on calcium phosphate and barium citrate used as clotting-factor adsorbents.",
              "12084 - Effect of thiocyanate on nitrite estimation and the cleavage of nitrosamines.",
              "12245 - Specific transplantation tolerance induced by autoimmunization against the individual's own, naturally occurring idiotypic, antigen-binding receptors.",
              "12247 - Respiratory behaviour of sea-urchin spermatozoa. II. Sperm-activating substance obtained from jelly coat of sea-urchin eggs.",
              "12251 - Properties of rat brain histidine decarboxylase.",
              "12253 - Present status of measles and rubella immunization in the United States: a medical progress report.",
              "12286 - A theoretical approach to structure-activity relationships. Some implications for the concept of optimal lipophilicity [proceedings].",
              "12291 - Hycanthone: an alkylating agent [proceeding].",
              "12311 - Changes in the conditiond avoidance behaviour of rats following the administration of drugs to the amygdala [proceedings].",
              "12342 - An instrumental method for the monitoring of mixing processes [proceedings].",
              "12348 - The radiation-sterilization of tetracycline hydrochloride [proceedings].",
              "12369 - Effects of staphylococcal products on locomotion and chemotaxis of human blood neutrophils and monocytes.",
              "12375 - Osteomyelitis following puncture wounds of the foot in children.",
              "12382 - [Multiple endocrine adenomatosis. Type I (author's transl)].",
              "12383 - Failure to prove arenavirus infection among the small mammals from an endemic area of Korean hemorrhagic nephrosonephritis.",
              "12397 - [Endocrinological studies on cryptorchidism. Part 2. Reference of androgen biosynthesis of testes, especially in human cryptorchidism (author's transl)].",
              "12401 - [X-ray assessment of the motor-evacuatory function of the gastrointestinal tract in the diagnosis of the dumping-syndrome].",
              "12406 - [Classification and use of psychotropic agents].",
              "12435 - Cretinism: influence on rate-limiting enzymes of amine synthesis in rat brain.",
              "12446 - Recent advances in bioluminescence and chemiluminescence assay.",
              "12458 - [Beta receptor blockaders in the treatment of hypertension].",
              "12466 - [Juvenile rheumatoid arthritis and related collagen diseases. Clinical aspects (author's transl)].",
              "12474 - Release of substance P-like immunoreactivity from isolated spinal cord of newborn rat.",
              "12475 - The effects of antipsychotics on the turnover rate of GABA and acetylcholine in rat brain nuclei.",
              "12482 - Dopaminergic neurons: reversal of effects elicited by gamma-butyrolactone by stimulation of the nigro-neostriatal pathway.",
              "14354 - Radiosensitization of hypoxic cells of an in vitro tumor model by respiratory inhibitors.",
              "12485 - Antinociceptive activitiy of narcotic agonist and partial agonist analgesics and other agents in the tail-immersion test in mice and rats.",
              "12487 - Benzodiazepine-induced modifications of dream content: the effect of flunitrazepam.",
              "19016 - Hyaluronidase activity in cultured chick embryo skin fibroblasts.",
              "12495 - Phenylalanine hydroxylase and tyrosine aminotransferase in human fetal and adult liver.",
              "12497 - polA6, A mutation affecting the DNA binding capacity of DNA polymerase I.",
              "12508 - Role of the intrinsic transglutaminase in the Ca2+-mediated crosslinking of erythrocyte proteins.",
              "12519 - Early processing of visual information.",
              "12545 - Some aspects of dopamine in the basal ganglia.",
              "12549 - Changes in brain catecholamines and spontaneous locomotor activity in response to thyrotropin releasing hormone.",
              "14796 - The diagnosis of Gaucher's disease in liver using 4-methylumbelliferyl-beta-D-glucopyranoside.",
              "12555 - A method for enzymatic determination of citrate in serum and urine.",
              "12577 - Beta-adrenoceptor blocking drugs and their use in hypertension.",
              "12579 - A metabolic approach to the evaluation of peripheral vascular disease.",
              "12605 - [Effect of a urea diet on glutamate dehydrogenase and glutamine synthetase activity in various organs of chickens].",
              "12607 - 3H-deoxythymidine incorporation in graft-versus-host disease in the Norway rat. II. Autoradiographic studies.",
              "12619 - Neurochemistry and behavior in man.",
              "12620 - [The question of the effect of nutrition on carcinogenicity].",
              "18731 - Unwanted effects of psychotropic drugs. IV.--Drugs for anxiety.",
              "12623 - [In vitro experiments on extracellular proteolytic activity of Pseudomonas aeruginosa in connection with phytopathological studies].",
              "12629 - [Pressure-volume relationship in patients with coronary disease following beta blockade].",
              "12655 - Takayasu's arteritis. Clinical study of 107 cases.",
              "12682 - Specific protein-binding reactions monitored by enzymatic hydrolysis of ligand-fluorescent dye conjugates.",
              "12712 - [Calcifications of the urinary apparatus in cases of aplasia of the abdominal wall (author's transl)].",
              "12723 - The double contrast examination of the colon experiences with the Welin Modification.",
              "12742 - Identity of isoenzyme 1 of histidine-pyruvate aminotransferase with serine-pyruvate aminotransferase.",
              "12744 - The transport and oxidation of succinate by Ehrlich ascites-tumour cells.",
              "12749 - Further investigation of the biosynthesis of caffeine in tea plants (Camellia sinensis L.). Methylation of transfer ribonucleic acid by tea leaf extracts.",
              "12756 - The activity of glucosamine 6-phosphate acetyltransferase (EC 2.3.1.4) in the human gastric mucous membrane.",
              "12769 - Synthetic analgesics: N-(1-[2-arylethyl]-4-substituted 4-piperidinyl) N-arylalkanamides.",
              "12780 - The effects of Bordetella pertussis vaccine on cerebral vascular permeability.",
              "12799 - Hydrolysis of chyle cholesterol esters with cell-free preparations of rat liver.",
              "12809 - External yeast beta-fructosidase. Affinity labeling of the active site.",
              "12827 - A cis-trans isomerising activity of Escherichia coli. Isomerization from 2-(2-furyl)-3-cis-(5-nitro-2-furyl) acrylamide (furylfuramide) to its trans isomer.",
              "12835 - Very low density lipoprotein. Dissociation of apolipoprotein C during lipoprotein lipase induced lipolysis.",
              "12841 - Fluorescence of proteins in aqueous neutral salt solutions. II. Influence of monovalent cation chlorides, particularly cesium chloride.",
              "12849 - Looking both ways. Presidential address delivered at British Institute of Radiology Annual Congress-9th April",
              "12866 - New sugars from antigenic lipopolysaccharides of bacteria: identification and synthesis of 3-O-[(R)-1-carboxyethyl]-L-rhamnose, an acidic component of Shigella dysenteriae type 5 lipopolysaccharide.",
              "12868 - [Automated processing of medical documentation (author's transl)].",
              "12879 - [Multiplicity of beta lactamases: a problem of isoenzymes].",
              "12892 - [Rheological properties of human bronchial secretions: demonstration of proline-rich polypeptides and their role (author's transl)].",
              "12903 - [Controlled trial using pinazepam in subjects with endocrine diseases].",
              "12904 - [Therapy of anxiety states. III. Major tranquilizing agents and other substances].",
              "12916 - Pharmaceutical properties and stability of amikacin - part I.",
              "12952 - Studies on 3-deoxy-D-arabinoheptulosonate-7-phosphate synthetase(phe)from Escherichia coli K12. 2. Kinetic properties.",
              "12964 - Proton equilibria in the binding of Zn2+ and of methylmercuric iodide to papain.",
              "12968 - Levansucrase of Bacillus subtilis. Characterization of a stabilized fructosyl-enzyme complex and identification of an aspartly residue as the binding site of the fructosyl group.",
              "12988 - Pharmacology of a new phthalane (Lu 10-171), with specific 5-HT uptake inhibiting properties.",
              "15036 - Mouse lymphocytes with and without surface immunoglobulin: preparative scale separation in polystyrene tissue culture dishes coated with specifically purified anti-immunoglobulin.",
              "12994 - Apparent arylsulfatase A activity in excretory fluids.",
              "13007 - A comparison of laparoscopy and culdoscopy for internal sterilization.",
              "13036 - Purification and properties of D-amino acid oxidas of Aspergillus niger.",
              "13081 - Some physicochemical properties of plasma membrane vesicles.",
              "13938 - Pharmaceutical studies on aminopeptidase from Aspergillus japonica.",
              "13132 - Assay for the terminal enzyme of the stearoyl coenzyme A desaturase system using chick embryo liver microsomes.",
              "13188 - Effect of phencyclidine on fluid intake and urine excretion.",
              "13203 - Intracellular pH of single crustacean muscle fibres by the DMO and electrode methods during acid and alkaline conditions.",
              "13302 - Granulomatous angiitis.",
              "13426 - Studies on the maturation of the head of bacteriophage T4.",
              "13430 - Specific encapsidation of fragments of TMV RNA.",
              "13440 - Models for biological ion exchangers. I. Proton magnetic resonance studies of water structure in Bio-Rex 70.",
              "19010 - Effects of catecholaminergic drugs upon memory storage processes in mice.",
              "13448 - Cyclic GMP in the CSF of patients with schizophrenia before and after neuroleptic treatment.",
              "13473 - [Therapeutic news of",
              "13488 - [Exercise hemodynamics and renin before and after acute beta block in patients with essential hypertension].",
              "16370 - [Increase in the tyrosine hydroxylase activity of the chick retina by an apparent phosphorylation].",
              "13508 - Examinations with oxygen-aparing analgesics in anginous patients.",
              "15361 - [Anamnestic syndromes : coding disorders].",
              "13594 - Pyruvate metabolism in rat brain mitochondria.",
              "14013 - The release of sex-specific substances responsible for sexual agglutination from haploid cells of Saccharomyces cerevisiae.",
              "13622 - Pathophysiological aspects of glucose uptake by the tumor tissue under various conditions of oxygen and glucose supply.",
              "13636 - Culverts and trypanosome transmission in the Serengeti National Park (Tanzania). III. Studies of the genus Auchmeromyia Bauer and Bergenstamm. (Diptera: Calliphoridae).",
              "13645 - Influence of temperature corresponding to that of the vector on Tahyna virus.",
              "13654 - Studies of glucose turnover and renal function in an unusual case of hereditary fructose intolerance.",
              "18225 - Poly(L-lysyl-L-alanyl-alpha-L-glutamic acid). II. Conformational studies.",
              "13670 - Editorial: Anti-cancer agents with activation in strongly hyperacidified tumor tissue: CMT selectines.",
              "13694 - [Difficulties in classifying psychotropic drugs].",
              "13768 - Thymidine-kinase in cytomegalovirus infected cells.",
              "13773 - Murray Valley encephalitis virus infection in mosquitoes and domestic fowls in Queensland,",
              "13782 - Genetics of peroxisomal enzymes in the mouse: nonlinkage of D-amino acid oxidase locus (Dao) to catalase (Cs) and L-alpha-hydroxyacid oxidase (Hao-1) loci on chromosome 2.",
              "13839 - Purification and properties of aldehyde dehydrogenase from Proteus vulgaris.",
              "13949 - Disorders of lactic acid metabolism.",
              "17424 - [A transmitter in spinal cord: about substance P and glycine (author's transl)].",
              "13986 - [An unusual case of panarteritis nodosa associated with chronic mercury poisoning (author's transl)].",
              "15590 - Purification and characterization of a plasminogen activator secreted by cultured human pancreatic carcinoma cells.",
              "14026 - Purification and subunit structure of tyrosine aminotransferase from rat liver cytosol.",
              "14097 - Oxygen delivery and uptake in dogs during anemic and hypoxic hypoxia.",
              "14216 - Photoreactions of 3,3',4',5-tetrachlorosalicylanilide with proteins.",
              "14237 - An experience with a systems approach to curriculum design.",
              "14388 - [Problems posed in",
              "14419 - Effects of general anesthetics on search in memory in man.",
              "14465 - Synthesis, turnover and compartment analysis of the free fatty acids in the placenta of rats.",
              "14467 - Studies on ligand binding of kidney bean leghemoglobin.",
              "14469 - Stabilization and assay of a 17beta-hydroxysteroid dehydrogenase in the serum of pregnant women.",
              "14519 - [Investigations on LH and FSH serum levels before and after application of synthetic LH-releasing-hormone in healthy men of different age].",
              "14528 - [The significance of experimental gerontology for clinical geriatrics (author's transl)].",
              "14540 - [Biological oriented research in gerontopsychiatrie (author's transl)].",
              "14541 - [Multidimensional pharmacopsychiatry in gerontopsychiatry: studies on the therapy with tricyclic antidepressant drugs (author's transl)].",
              "14723 - [The activity of beta-hydroxy-beta-methylglutaryl-CoA reductase in the soluble fraction of rat liver].",
              "14726 - [Mechanism of amylase action on glucoside starch bonds].",
              "14746 - Production of Schardinger beta-dextrin by soluble and immobilized cyclodextrin glycosyltransferase of an alkalophilic Bacillus sp.",
              "14843 - [Endogenous formation of carcinogenic-N-nitroso compounds in rats after application of drugs and nitrite (author's transl)].",
              "14872 - [Effects of methyl O-(4-hydroxy-3-methoxycinnamoly)reserpate (CD-3400) on the peripheral nervous system: especially on the smooth muscle organs].",
              "15043 - Characterization of gill (Na + K)-activated adenosine triphosphatase from chinook salmon, Oncorhynchus tshawytscha.",
              "18951 - Observations on the reaction between nitric acid and brucine.",
              "15125 - A protonmotive force as the source of energy for galactoside transport in energy depleted Escherichia coli.",
              "15431 - Fermentation pattern in the bovine rumen after feeding straight feeds.",
              "15196 - Immobilized coenzymes.",
              "15231 - [Kallman's syndrome].",
              "15252 - Catecholamine hormone receptor differences identified on 3T3 and simian virus-transformed 3T3 cells.",
              "16656 - Inhibition of alkaline phosphatase by sialic acid.",
              "15309 - Hemoglobin function in stored blood, XVII. Maintenance of red cell 2,3 DPG (function) and ATP (viability) for six weeks in ACD or CPD-adenine-inosine-methylene blue.",
              "15342 - [Takayasu's disease and pregnancy: a case].",
              "15349 - Renal distal tubular secretory mechanisms in healthy Nigerian subjects.",
              "15425 - Role of histone kinase activation and translocation in the mediation of the transsynaptic induction of tyrosine hydroxylase in rat adrenal medulla.",
              "15479 - [Toxico-pharmacologic study of a curarimimetic, AH",
              "15506 - [Simplified liquid nutrient media for controlling antibiotic activity, the spectrum of their antibacterial action and the sensitivity of microorganisms].",
              "15648 - [Electrochemical gradient of H+ ions as an immediate source of energy during bacteria movement].",
              "15652 - [Optical and magnetic properties of azurin from Pseudomanas aeruginosa].",
              "16495 - Cardiovascular effects of fever in the ewe and fetal lamb.",
              "15729 - Biochemical studies on 1,1'-ethylenebis(1-nitrosourea) (EBNU). I. Degradation of EBNU in mild conditions.",
              "15764 - [Lights and shadows of modern therapy. Introduction to the VIIth Week of Therapeutics].",
              "15843 - Stress and cardiovascular disease.",
              "15849 - The mode of action of 4-aminopyridine and guanidine on transmitter release from motor nerve terminals.",
              "15897 - A new technique and instruments for delivery of the Fallopian tube in female sterilization.",
              "15908 - Prophylactic antibiotic in elective gynaecological and obstetrical major surgery.",
              "15918 - 2,3-diphosphoglycerate, nucleotide phosophate, and organic and inorganic phosphate levels during the early phases of diabetic ketoacidosis.",
              "15943 - Effect of kinetic parameters & inhibitors on alpha-galactosidase of coffee beans.",
              "15968 - Beta blockers in coronary artery disease.",
              "15975 - Cellulase of Neurospora crassa.",
              "16137 - Beta-Adrenergic blocking agents. 15. 1-Substituted ureidophenoxy-3-amino-2-propanols.",
              "16173 - [Post-traumatic protrusion of the hip joint].",
              "19076 - Solubilization and partial characterization of UDP-N-acetylgalactosamine: globoside alpha-N-acetylgalactosaminyltransferase from dog spleen microsomes.",
              "16260 - Regulation of cholesterol synthesis in rat adrenal gland through coordinate control of 3-hydroxy-3-methylglutaryl coenzyme A synthase and reductase activities.",
              "16283 - Meiosis in perspective.",
              "16315 - Hyperthermic effect on exponential and plateau ascites tumor cells in vitro dependent on environmental pH1.",
              "16317 - [The arylsulfatases (author's transl)].",
              "16451 - Phosphoribosylpyrophosphate degradation in human tissues.",
              "17023 - [Outlook and trends seen in reports presented at the 5th meeting of the Japan Nursing Academic Society].",
              "16483 - Esophageal intraluminal pH recording in the assessment of gastroesophageal reflux and its consequences.",
              "17993 - Peroperative arterial blood pressure control in ophthalmological anaesthesia.",
              "16523 - [Sodium supply in operations under extracorporeal circulation in children].",
              "16578 - Allohydroxy-D-proline dehydrogenase. An inducible membrane-bound enzyme in Pseudomonas aeruginosa PA01.",
              "16634 - The metabolism, distribution and elimination of chlorphentermine in man.",
              "16681 - Blood pressure and heart rate and withdrawal of antihypertensive drugs.",
              "16813 - Structural distribution of the buffer lines of the blood determined by the method of Astrup-Siggaard Anderson.",
              "17310 - Host feeding patterns of Connecticut mosquitoes (Diptera: Culicidae).",
              "17361 - Psychopharmacological implications of dopamine and dopamine antagonists: a critical evaluation of current evidence.",
              "17448 - Beta-blockers and lipid metabolism.",
              "17533 - [Risk of malignancy cryptorchism].",
              "17729 - Association of in vivo and in vitro propranolol levels in canine Purkinje fibers with antiarrhythmic effects.",
              "17848 - [The detection of soluble bacterial antigens studied in various pathological substances using counterimmunoelectrophoresis. Contribution to diagnosis(151 cases)].",
              "17869 - The anterior amygdala dopamine sensitive adenylate cyclase: point of action of antipsychotic drugs.",
              "17965 - [On the enzymatic breakdown of tripolyphosphate and diphosphate in comminuted meat. VIII. Influence of divalent cations on the tripolyphosphatase activity of muscle tissue (author's transl)].",
              "17987 - [Demonstration of protein kinase activities in the coronary artery of cattle].",
              "18455 - Purification and properties of phenylalanine ammonia-lyase in cut-injured sweet potato.",
              "18018 - Development of SHR hypertension and cardiac hypertrophy during prolonged beta blockade.",
              "18050 - [Resection- or resection-interposition-plasty of the shoulder joint as an alternative to alloarthroplasty and arthrodesis].",
              "18370 - [Effect of corticotropin on functional and metabolic processes in muscles].",
              "18411 - Absence of a prenidatory effect of luteinizing hormone releasing hormone (LHRH) in hamsters.",
              "18708 - PAs in research: levels of involvement and responsibility.",
              "3424 - Elevated serum and hepatic tyrosine aminotransferase in voles chronically infected with Trypanosoma brucei gambiense.",
              "18720 - 1976 CME survey results.",
              "4920 - RNA-dependent RNA polymerase associated with subviral particles of Fiji disease virus.",
              "6977 - Nuclear dna amounts in angiosperms.",
              "7023 - [Humoral factors of circulatory disorders in chronic liver diseases].",
              "7282 - [D-aspartate oxidase from octopus liver (Octopus vulgaris Lam.) and from pig liver. Purification and properties. III. Comparative study of the D-aspartate oxidase purified from octopus liver and swine liver].",
              "8830 - Crohn's disease of the distal large bowel.",
              "13388 - The current status of male and female sterilization procedures.",
              "14636 - Presence of cholesterol ester synthetase activity in guinea pig gallbladder epithelium.",
              "18204 - Formation of a complex between yeast L-lactate dehydrogenase (cytochrome b2) and cytochrome c. Ultracentrifugal and gel chromatographic analyses.",
              "18724 - [Effect of kinins on the action of agonists and antagonists of adrenergic receptors]."
            ],
            "_view_count": null,
            "_view_module": "@jupyter-widgets/controls",
            "_view_module_version": "1.5.0",
            "_view_name": "DropdownView",
            "description": "Select Article:",
            "description_tooltip": null,
            "disabled": false,
            "index": 367,
            "layout": "IPY_MODEL_b69acdfbdfe842af8fdc8f69d13ce823",
            "style": "IPY_MODEL_1908129cd56040b6be7f2bd0145d863a"
          }
        },
        "b69acdfbdfe842af8fdc8f69d13ce823": {
          "model_module": "@jupyter-widgets/base",
          "model_name": "LayoutModel",
          "model_module_version": "1.2.0",
          "state": {
            "_model_module": "@jupyter-widgets/base",
            "_model_module_version": "1.2.0",
            "_model_name": "LayoutModel",
            "_view_count": null,
            "_view_module": "@jupyter-widgets/base",
            "_view_module_version": "1.2.0",
            "_view_name": "LayoutView",
            "align_content": null,
            "align_items": null,
            "align_self": null,
            "border": null,
            "bottom": null,
            "display": null,
            "flex": null,
            "flex_flow": null,
            "grid_area": null,
            "grid_auto_columns": null,
            "grid_auto_flow": null,
            "grid_auto_rows": null,
            "grid_column": null,
            "grid_gap": null,
            "grid_row": null,
            "grid_template_areas": null,
            "grid_template_columns": null,
            "grid_template_rows": null,
            "height": null,
            "justify_content": null,
            "justify_items": null,
            "left": null,
            "margin": null,
            "max_height": null,
            "max_width": null,
            "min_height": null,
            "min_width": null,
            "object_fit": null,
            "object_position": null,
            "order": null,
            "overflow": null,
            "overflow_x": null,
            "overflow_y": null,
            "padding": null,
            "right": null,
            "top": null,
            "visibility": null,
            "width": null
          }
        },
        "1908129cd56040b6be7f2bd0145d863a": {
          "model_module": "@jupyter-widgets/controls",
          "model_name": "DescriptionStyleModel",
          "model_module_version": "1.5.0",
          "state": {
            "_model_module": "@jupyter-widgets/controls",
            "_model_module_version": "1.5.0",
            "_model_name": "DescriptionStyleModel",
            "_view_count": null,
            "_view_module": "@jupyter-widgets/base",
            "_view_module_version": "1.2.0",
            "_view_name": "StyleView",
            "description_width": ""
          }
        }
      }
    }
  },
  "cells": [
    {
      "cell_type": "markdown",
      "metadata": {
        "id": "view-in-github",
        "colab_type": "text"
      },
      "source": [
        "<a href=\"https://colab.research.google.com/github/dvirbublil02/FinalProject/blob/main/Analyzing_article's.ipynb\" target=\"_parent\"><img src=\"https://colab.research.google.com/assets/colab-badge.svg\" alt=\"Open In Colab\"/></a>"
      ]
    },
    {
      "cell_type": "markdown",
      "source": [
        "# **Step 1: Clone the GitHub Repository**\n",
        "**To proceed, we need to clone the GitHub repository containing the required code and resources.**\n",
        "\n"
      ],
      "metadata": {
        "id": "5ukipjs8tzcG"
      }
    },
    {
      "cell_type": "code",
      "execution_count": 1,
      "metadata": {
        "colab": {
          "base_uri": "https://localhost:8080/"
        },
        "id": "Z9hJ9GN_s0p0",
        "outputId": "63155e45-0756-44fd-cd7f-a35bdbeba962"
      },
      "outputs": [
        {
          "output_type": "stream",
          "name": "stdout",
          "text": [
            "Cloning into 'FinalProject'...\n",
            "remote: Enumerating objects: 336, done.\u001b[K\n",
            "remote: Counting objects: 100% (115/115), done.\u001b[K\n",
            "remote: Compressing objects: 100% (78/78), done.\u001b[K\n",
            "remote: Total 336 (delta 57), reused 85 (delta 36), pack-reused 221 (from 2)\u001b[K\n",
            "Receiving objects: 100% (336/336), 123.88 MiB | 17.31 MiB/s, done.\n",
            "Resolving deltas: 100% (99/99), done.\n"
          ]
        }
      ],
      "source": [
        "!rm -rf FinalProject\n",
        "!git clone https://github.com/dvirbublil02/FinalProject.git\n",
        "\n"
      ]
    },
    {
      "cell_type": "markdown",
      "source": [
        "# **Step2: Set the Working Directory**\n",
        "**Change the current working directory to the folder containing the code. This ensures that all subsequent commands are executed in the correct context.**"
      ],
      "metadata": {
        "id": "oJIlTegvt7Dv"
      }
    },
    {
      "cell_type": "code",
      "source": [
        "%cd \"/content/FinalProject/‏‏Capstone Project Phase B/Code/\"\n",
        "\n"
      ],
      "metadata": {
        "colab": {
          "base_uri": "https://localhost:8080/"
        },
        "id": "VSbYGgB7uAR3",
        "outputId": "3cb4cf54-25f1-4e3c-a793-c7f60b28c5ea"
      },
      "execution_count": 12,
      "outputs": [
        {
          "output_type": "stream",
          "name": "stdout",
          "text": [
            "/content/FinalProject/‏‏Capstone Project Phase B/Code\n"
          ]
        }
      ]
    },
    {
      "cell_type": "markdown",
      "source": [
        "# **Step3:Run the prepare_data.py Script**\n",
        "**Execute the prepare_data.py script to preprocess the dataset (e.g., PubMed) and generate snapshots by dividing the data into manageable segments , and creating the dynamic grpah with injected anomalies.**\n",
        "\n",
        "**Estimated Runtime: Approximately  10 - 15 minutes, depending on the GPU performance.\n",
        "Purpose: This step handles dataset preprocessing and snapshot creation, preparing the data for subsequent analysis.**"
      ],
      "metadata": {
        "id": "3NCjJosULBmb"
      }
    },
    {
      "cell_type": "code",
      "source": [
        "!python prepare_data.py"
      ],
      "metadata": {
        "colab": {
          "base_uri": "https://localhost:8080/"
        },
        "id": "5jScF4iTLBaj",
        "outputId": "a8386e4e-ba06-4207-d508-30810e597977"
      },
      "execution_count": 7,
      "outputs": [
        {
          "output_type": "stream",
          "name": "stdout",
          "text": [
            "Generating data with anomaly for Dataset:  PubMed\n",
            "[#s] generating anomalous dataset...\n",
            " 2025-01-05 06:51:29.082958\n",
            "[#s] initial network edge percent: #.1f##, anomaly percent: #.1f##.\n",
            " 2025-01-05 06:51:29.082992 50.0 1.0\n",
            "Anomaly Generation finish! Time: 227.07 s\n",
            "Train size:22162  4  Test size:22383 4\n",
            "Anomalous edges saved to data/OurResearch/anomalous_fake_edges.txt\n",
            "Training dataset contruction finish! Time: 0.07 s\n",
            "Test dataset finish constructing! Time: 0.00 s\n",
            "Saving training snapshot: results/snapshots/train/PubMed_0000_train_0.01.txt\n",
            "Saving training snapshot: results/snapshots/train/PubMed_0001_train_0.01.txt\n",
            "Saving training snapshot: results/snapshots/train/PubMed_0002_train_0.01.txt\n",
            "Saving training snapshot: results/snapshots/train/PubMed_0003_train_0.01.txt\n",
            "Saving testing snapshot: results/snapshots/test/PubMed_0000_test_0.01.txt\n",
            "Saving testing snapshot: results/snapshots/test/PubMed_0001_test_0.01.txt\n",
            "Saving testing snapshot: results/snapshots/test/PubMed_0002_test_0.01.txt\n",
            "Saving testing snapshot: results/snapshots/test/PubMed_0003_test_0.01.txt\n"
          ]
        }
      ]
    },
    {
      "cell_type": "markdown",
      "source": [
        "# **Step 4: Run the train.py Script with our dataset and anomalies ratio.**\n",
        "**Execute the train.py script to train the model, including the implementation of the anomaly detection logic. This step will also save the anomalous edges for use in subsequent steps.**\n",
        "\n",
        " **Purpose: The script trains the model on the prepared data and identifies anomalous edges, storing them for further processing.\n",
        " Estimated Runtime: Varies based on the dataset and hardware.(minimum requirement run with 100 gpu power.**\n",
        ""
      ],
      "metadata": {
        "id": "YQLYQwwxL9Fs"
      }
    },
    {
      "cell_type": "code",
      "source": [
        "!python train.py --dataset PubMed --anomaly_per 0.01"
      ],
      "metadata": {
        "colab": {
          "base_uri": "https://localhost:8080/"
        },
        "id": "HXG1KH5AL9Zw",
        "outputId": "618e55fe-e532-4d97-c33a-fc499434c8fe"
      },
      "execution_count": 4,
      "outputs": [
        {
          "output_type": "stream",
          "name": "stdout",
          "text": [
            "2025-01-05 06:19:21.804855: I tensorflow/core/util/port.cc:153] oneDNN custom operations are on. You may see slightly different numerical results due to floating-point round-off errors from different computation orders. To turn them off, set the environment variable `TF_ENABLE_ONEDNN_OPTS=0`.\n",
            "2025-01-05 06:19:21.822989: E external/local_xla/xla/stream_executor/cuda/cuda_fft.cc:485] Unable to register cuFFT factory: Attempting to register factory for plugin cuFFT when one has already been registered\n",
            "2025-01-05 06:19:21.843789: E external/local_xla/xla/stream_executor/cuda/cuda_dnn.cc:8454] Unable to register cuDNN factory: Attempting to register factory for plugin cuDNN when one has already been registered\n",
            "2025-01-05 06:19:21.850068: E external/local_xla/xla/stream_executor/cuda/cuda_blas.cc:1452] Unable to register cuBLAS factory: Attempting to register factory for plugin cuBLAS when one has already been registered\n",
            "2025-01-05 06:19:21.865424: I tensorflow/core/platform/cpu_feature_guard.cc:210] This TensorFlow binary is optimized to use available CPU instructions in performance-critical operations.\n",
            "To enable the following instructions: AVX2 AVX512F AVX512_VNNI FMA, in other operations, rebuild TensorFlow with the appropriate compiler flags.\n",
            "2025-01-05 06:19:23.119793: W tensorflow/compiler/tf2tensorrt/utils/py_utils.cc:38] TF-TRT Warning: Could not find TensorRT\n",
            "$$$$ Start $$$$\n",
            "Loading PubMed dataset...\n",
            "Loading eigen from: data/eigen/PubMed_0.5_0.01.pkl\n",
            "/content/FinalProject/‏‏Capstone Project Phase B/Code/codes/DynamicDatasetLoader.py:85: UserWarning: torch.sparse.SparseTensor(indices, values, shape, *, device=) is deprecated.  Please use torch.sparse_coo_tensor(indices, values, shape, dtype=, device=). (Triggered internally at ../torch/csrc/utils/tensor_new.cpp:651.)\n",
            "  return sparse.FloatTensor(indices, values, shape)\n",
            "Epoch: 1, loss:0.6932, Time: 18.6986s\n",
            "Epoch: 2, loss:0.6914, Time: 18.4074s\n",
            "Epoch: 3, loss:0.6900, Time: 19.5967s\n",
            "Epoch: 4, loss:0.6888, Time: 20.3889s\n",
            "Epoch: 5, loss:0.6857, Time: 21.2735s\n",
            "Epoch: 6, loss:0.6821, Time: 18.2630s\n",
            "Epoch: 7, loss:0.6800, Time: 20.1220s\n",
            "Epoch: 8, loss:0.6791, Time: 21.4203s\n",
            "Epoch: 9, loss:0.6747, Time: 21.6608s\n",
            "Epoch: 10, loss:0.6696, Time: 19.9758s\n",
            "Epoch: 11, loss:0.6650, Time: 20.3829s\n",
            "Epoch: 12, loss:0.6614, Time: 20.8358s\n",
            "Epoch: 13, loss:0.6558, Time: 17.8372s\n",
            "Epoch: 14, loss:0.6553, Time: 23.5898s\n",
            "Epoch: 15, loss:0.6504, Time: 23.2693s\n",
            "Epoch: 16, loss:0.6458, Time: 20.5122s\n",
            "Epoch: 17, loss:0.6422, Time: 21.8630s\n",
            "Epoch: 18, loss:0.6366, Time: 19.8807s\n",
            "Epoch: 19, loss:0.6320, Time: 18.5006s\n",
            "Epoch: 20, loss:0.6325, Time: 19.8845s\n",
            "Epoch: 21, loss:0.6218, Time: 22.1477s\n",
            "Epoch: 22, loss:0.6153, Time: 23.7000s\n",
            "Epoch: 23, loss:0.6228, Time: 20.3252s\n",
            "Epoch: 24, loss:0.6125, Time: 25.3391s\n",
            "Epoch: 25, loss:0.6145, Time: 20.0529s\n",
            "Epoch: 26, loss:0.6038, Time: 18.2172s\n",
            "Epoch: 27, loss:0.5988, Time: 20.3433s\n",
            "Epoch: 28, loss:0.6000, Time: 18.8500s\n",
            "Epoch: 29, loss:0.5970, Time: 21.1797s\n",
            "Epoch: 30, loss:0.5886, Time: 25.0309s\n",
            "Epoch: 31, loss:0.5876, Time: 19.9546s\n",
            "Epoch: 32, loss:0.5858, Time: 21.1585s\n",
            "Epoch: 33, loss:0.5819, Time: 21.7067s\n",
            "Epoch: 34, loss:0.5778, Time: 18.4703s\n",
            "Epoch: 35, loss:0.5813, Time: 19.3123s\n",
            "Epoch: 36, loss:0.5839, Time: 18.6343s\n",
            "Epoch: 37, loss:0.5676, Time: 22.6167s\n",
            "Epoch: 38, loss:0.5670, Time: 18.3289s\n",
            "Epoch: 39, loss:0.5583, Time: 21.6650s\n",
            "Epoch: 40, loss:0.5582, Time: 19.6456s\n",
            "Epoch: 41, loss:0.5492, Time: 25.2834s\n",
            "Epoch: 42, loss:0.5340, Time: 22.0996s\n",
            "Epoch: 43, loss:0.5373, Time: 22.4206s\n",
            "Epoch: 44, loss:0.5437, Time: 20.8249s\n",
            "Epoch: 45, loss:0.5460, Time: 20.0887s\n",
            "Epoch: 46, loss:0.5309, Time: 21.9555s\n",
            "Epoch: 47, loss:0.5516, Time: 18.6022s\n",
            "Epoch: 48, loss:0.5374, Time: 24.8824s\n",
            "Epoch: 49, loss:0.5397, Time: 19.0175s\n",
            "Epoch: 50, loss:0.5333, Time: 22.8782s\n",
            "Snap: 04 | AUC: 0.6567\n",
            "Snap: 05 | AUC: 0.6890\n",
            "Snap: 06 | AUC: 0.7784\n",
            "Snap: 07 | AUC: 0.7812\n",
            "TOTAL AUC :0.7496\n",
            "Total unique anomalous edges saved: 935\n",
            "$$$$ Finish $$$$\n"
          ]
        }
      ]
    },
    {
      "cell_type": "markdown",
      "source": [
        "# **Step5:Step 5: Run the visual.py & create_and_save_snapshots.py Script and Generate Visuals and save \"screenshots\" of the graph**\n",
        "**This will load the necessary Python files to generate research plots and the anomalous matrix, which can be displayed for analysis.**\n",
        "\n",
        "**Purpose: This step extracts the anomalous articles from the detected anomalous edges using the implemented logic, and then visualizes the results through plots and matrices.\n",
        "Outcome: Research plots and the anomalous matrix will be generated and saved for further examination.**"
      ],
      "metadata": {
        "id": "rGPzJTcTJR9E"
      }
    },
    {
      "cell_type": "code",
      "source": [
        "!python visual.py"
      ],
      "metadata": {
        "colab": {
          "base_uri": "https://localhost:8080/"
        },
        "id": "IPEn1_rNJDtb",
        "outputId": "bdadd57e-df20-402e-a13c-aa2bb26a1748"
      },
      "execution_count": 5,
      "outputs": [
        {
          "output_type": "stream",
          "name": "stdout",
          "text": [
            "Anomalies per category plot saved to results/anomalies_per_category.png\n",
            "Anomaly status matrix saved to results/anomaly_status_matrix.txt\n",
            "Anomalies by year pair plot saved to results/anomalies_by_year_pair.png\n",
            "Anomalies per snapshot plot saved to results/anomalies_per_snapshot.png\n",
            "Anomalies per category plot saved to results/anomalies_per_category.png\n"
          ]
        }
      ]
    },
    {
      "cell_type": "code",
      "source": [
        "!python create_and_save_snapshots.py"
      ],
      "metadata": {
        "colab": {
          "base_uri": "https://localhost:8080/"
        },
        "id": "98cgRobyNyyV",
        "outputId": "181e3f3f-895d-418f-d0f6-08de07c4d330"
      },
      "execution_count": 8,
      "outputs": [
        {
          "output_type": "stream",
          "name": "stdout",
          "text": [
            "Processing file: PubMed_0003_train_0.01.txt with 4762 edges.\n",
            "Saved 10 snapshots.\n",
            "Final snapshot of all edges saved as 'snapshots/combined/final_snapshot_all_edges.png'.\n",
            "Combined snapshots with final snapshot saved as 'snapshots/combined/combined_PubMed_0003_train_0.01.txt.png'.\n",
            "Completed combining snapshots for PubMed_0003_train_0.01.txt.\n",
            "Processing file: PubMed_0002_train_0.01.txt with 5800 edges.\n",
            "Saved 12 snapshots.\n",
            "Final snapshot of all edges saved as 'snapshots/combined/final_snapshot_all_edges.png'.\n",
            "Combined snapshots with final snapshot saved as 'snapshots/combined/combined_PubMed_0002_train_0.01.txt.png'.\n",
            "Completed combining snapshots for PubMed_0002_train_0.01.txt.\n",
            "Processing file: PubMed_0001_train_0.01.txt with 5800 edges.\n",
            "Saved 12 snapshots.\n",
            "Final snapshot of all edges saved as 'snapshots/combined/final_snapshot_all_edges.png'.\n",
            "Combined snapshots with final snapshot saved as 'snapshots/combined/combined_PubMed_0001_train_0.01.txt.png'.\n",
            "Completed combining snapshots for PubMed_0001_train_0.01.txt.\n",
            "Processing file: PubMed_0000_train_0.01.txt with 5800 edges.\n",
            "Saved 12 snapshots.\n",
            "Final snapshot of all edges saved as 'snapshots/combined/final_snapshot_all_edges.png'.\n",
            "Combined snapshots with final snapshot saved as 'snapshots/combined/combined_PubMed_0000_train_0.01.txt.png'.\n",
            "Completed combining snapshots for PubMed_0000_train_0.01.txt.\n"
          ]
        }
      ]
    },
    {
      "cell_type": "markdown",
      "source": [
        "# **Step 6: Run the visualArticles.py Script**\n",
        "**Execute the visualArticles.py script to track the anomalous articles over time. This step will visualize how the identified anomalous articles evolve throughout the dataset.**\n",
        "\n",
        "**Purpose: This visualization will help in understanding the behavior and evolution of anomalous articles over time.\n",
        "Outcome: A timeline-based visualization will be generated, showing how the anomalous articles change or persist through different time intervals.**\n",
        "\n"
      ],
      "metadata": {
        "id": "z8bYbb2lu6ri"
      }
    },
    {
      "cell_type": "code",
      "source": [
        "%run visualArtcles.py"
      ],
      "metadata": {
        "colab": {
          "base_uri": "https://localhost:8080/",
          "height": 459,
          "referenced_widgets": [
            "0d3314ce9ccf4441876c3a31037116d6",
            "b69acdfbdfe842af8fdc8f69d13ce823",
            "1908129cd56040b6be7f2bd0145d863a"
          ]
        },
        "id": "89ydPqnGu2ef",
        "outputId": "6825702b-6524-445f-e1c9-cee0e01d6008"
      },
      "execution_count": 9,
      "outputs": [
        {
          "output_type": "display_data",
          "data": {
            "text/plain": [
              "<Figure size 800x400 with 1 Axes>"
            ],
            "image/png": "[encoded data removed]"
          },
          "metadata": {}
        },
        {
          "output_type": "display_data",
          "data": {
            "text/plain": [
              "Dropdown(description='Select Article:', index=367, options=(('10000 - A new method for the determination of al…"
            ],
            "application/vnd.jupyter.widget-view+json": {
              "version_major": 2,
              "version_minor": 0,
              "model_id": "0d3314ce9ccf4441876c3a31037116d6"
            }
          },
          "metadata": {}
        }
      ]
    },
    {
      "cell_type": "markdown",
      "source": [
        "# **Step 7: Run Model Testing**\n",
        "**Execute the testing process to evaluate the performance of the trained model. This step will test the model’s accuracy and effectiveness in identifying anomalies based on the preprocessed data.\n",
        "Purpose: To assess the model’s performance and validate its anomaly detection capabilities.\n",
        "Outcome: Testing results will provide insights into the model’s accuracy and the detection of anomalies.**\n"
      ],
      "metadata": {
        "id": "jLVNGYlt15zO"
      }
    },
    {
      "cell_type": "code",
      "source": [
        "%run \"/content/FinalProject/‏‏Capstone Project Phase B/Code/tests/tests_preprocessing.py\"\n",
        "%run \"/content/FinalProject/‏‏Capstone Project Phase B/Code/tests/tests_model.py\""
      ],
      "metadata": {
        "colab": {
          "base_uri": "https://localhost:8080/",
          "height": 894
        },
        "id": "xo5joMbS1Udl",
        "outputId": "357c10c4-1449-470d-8d37-0043ddccd023"
      },
      "execution_count": 10,
      "outputs": [
        {
          "output_type": "stream",
          "name": "stderr",
          "text": [
            ".../content/FinalProject/‏‏Capstone Project Phase B/Code/codes/DynamicDatasetLoader.py:85: UserWarning: torch.sparse.SparseTensor(indices, values, shape, *, device=) is deprecated.  Please use torch.sparse_coo_tensor(indices, values, shape, dtype=, device=). (Triggered internally at ../torch/csrc/utils/tensor_new.cpp:651.)\n",
            "  return sparse.FloatTensor(indices, values, shape)\n",
            "."
          ]
        },
        {
          "output_type": "stream",
          "name": "stdout",
          "text": [
            "Dataset loading functionality tested successfully. Test Passed\n",
            "Row normalization of the sparse matrix tested successfully. Test Passed\n",
            "Symmetrical normalization of adjacency matrix tested successfully. Test Passed\n",
            "Conversion of sparse matrix to torch sparse tensor tested successfully. Test passed\n",
            "Preprocess dataset: PubMed\n",
            "Data failed to load. Test Passed: Raw file was not found, as expected.\n"
          ]
        },
        {
          "output_type": "stream",
          "name": "stderr",
          "text": [
            "."
          ]
        },
        {
          "output_type": "stream",
          "name": "stdout",
          "text": [
            "structure of generateDataset function including generate anoamlies and inject them verified successfully! Test Passed\n"
          ]
        },
        {
          "output_type": "stream",
          "name": "stderr",
          "text": [
            "."
          ]
        },
        {
          "output_type": "stream",
          "name": "stdout",
          "text": [
            "Raw file absolute path: /content/FinalProject/‏‏Capstone Project Phase B/Code/data/raw/processed_pubmed.txt\n",
            "Preprocess dataset: PubMed\n"
          ]
        },
        {
          "output_type": "stream",
          "name": "stderr",
          "text": [
            ".\n",
            "----------------------------------------------------------------------\n",
            "Ran 7 tests in 2.404s\n",
            "\n",
            "OK\n"
          ]
        },
        {
          "output_type": "stream",
          "name": "stdout",
          "text": [
            "vertex: 19717  edge: 44324\n",
            "Preprocess finished! Time: 0.31 s\n",
            "Data successfully loaded and processed. Test Passed\n"
          ]
        },
        {
          "output_type": "stream",
          "name": "stderr",
          "text": [
            ".....\n",
            "----------------------------------------------------------------------\n",
            "Ran 5 tests in 0.054s\n",
            "\n",
            "OK\n"
          ]
        },
        {
          "output_type": "stream",
          "name": "stdout",
          "text": [
            "Snapshot 1 saved anomalous edges: [(0, 2), (3, 4)]\n",
            "Snapshot 2 saved anomalous edges: [(1, 3)]\n",
            "Snapshot 3 saved anomalous edges: [(2, 4), (0, 1)]\n",
            "Test completed successfully.\n",
            "AUC for each snapshot:\n",
            "Snapshot 1 AUC: 1.0\n",
            "Snapshot 2 AUC: 1.0\n",
            "Snapshot 3 AUC: 1.0\n",
            "Full AUC: 1.0\n",
            "\n",
            "All tests passed! Time: 0.008s\n",
            "Model evaluation and AUC calculation verified successfully. test pass\n",
            "Model Initialization Test Passed!\n",
            "Negative edges successfully checked and verified Test passed!\n",
            "Snapshot 1 saved edge embeddings: [[0.1 0.2]\n",
            " [0.3 0.4]]\n",
            "Snapshot 2 saved edge embeddings: [[0.5 0.6]\n",
            " [0.7 0.8]]\n",
            "Snapshot 3 saved edge embeddings: [[0.9 1. ]\n",
            " [1.1 1.2]]\n",
            "test_save_edge_embeddings passed successfully.\n",
            "Training Hyperparameters Test Passed!\n"
          ]
        },
        {
          "output_type": "display_data",
          "data": {
            "text/plain": [
              "<Figure size 640x480 with 0 Axes>"
            ]
          },
          "metadata": {}
        }
      ]
    },
    {
      "cell_type": "markdown",
      "source": [
        "# **Step 8: (Optional) Download the Results**\n",
        "**If you wish to download the results generated during the process, you can use the following command to save them locally.\n",
        "Purpose: This step allows you to download any generated files, such as research plots, anomalous data matrices, or test results, for further analysis or presentation.\n",
        "Outcome: The specified files will be downloaded to your local machine.**\n",
        "\n",
        "\n"
      ],
      "metadata": {
        "id": "CqTLmpKvUySS"
      }
    },
    {
      "cell_type": "code",
      "source": [
        "import os\n",
        "import shutil\n",
        "from zipfile import ZipFile\n",
        "from google.colab import files\n",
        "\n",
        "# Define base directory\n",
        "base_dir = \"/content/FinalProject/‏‏Capstone Project Phase B/Code/\"\n",
        "\n",
        "# Define the folders you want to include in the zip\n",
        "folders = [\n",
        "    os.path.join(base_dir, \"results\"),\n",
        "    os.path.join(base_dir, \"snapshots\"),\n",
        "    os.path.join(base_dir, \"data/OurResearch\")\n",
        "]\n",
        "\n",
        "# Define files to exclude from the snapshots folder\n",
        "exclude_files = [\n",
        "    f\"snapshot_{i}.png\" for i in range(1, 13)\n",
        "] + [\"final_snapshot_all_edges.png\"]\n",
        "\n",
        "# Ensure the folders exist\n",
        "for folder_path in folders:\n",
        "    if not os.path.exists(folder_path):\n",
        "        print(f\"Creating folder: {folder_path}\")\n",
        "        os.makedirs(folder_path, exist_ok=True)\n",
        "\n",
        "# Create a single zip file containing all the folders\n",
        "zip_name = \"capstone_b_results.zip\"\n",
        "with ZipFile(zip_name, 'w') as zipf:\n",
        "    for folder_path in folders:\n",
        "        if os.path.exists(folder_path):\n",
        "            for root, _, files_list in os.walk(folder_path):\n",
        "                for file_name in files_list:\n",
        "                    # Skip excluded files if in the snapshots folder\n",
        "                    if (\n",
        "                        folder_path.endswith(\"snapshots\")\n",
        "                        and file_name in exclude_files\n",
        "                    ):\n",
        "                        continue\n",
        "                    # Create the path inside the zip file\n",
        "                    file_path = os.path.join(root, file_name)\n",
        "                    arcname = os.path.relpath(file_path, base_dir)\n",
        "                    zipf.write(file_path, arcname)\n",
        "        else:\n",
        "            print(f\"Folder not found: {folder_path}\")\n",
        "\n",
        "# Download the zip file\n",
        "files.download(zip_name)\n"
      ],
      "metadata": {
        "id": "YJ_Sn9fP106s",
        "colab": {
          "base_uri": "https://localhost:8080/",
          "height": 17
        },
        "outputId": "dc153f91-f331-4c7b-a5b5-c8537a25ca22"
      },
      "execution_count": 15,
      "outputs": [
        {
          "output_type": "display_data",
          "data": {
            "text/plain": [
              "<IPython.core.display.Javascript object>"
            ],
            "application/javascript": [
              "\n",
              "    async function download(id, filename, size) {\n",
              "      if (!google.colab.kernel.accessAllowed) {\n",
              "        return;\n",
              "      }\n",
              "      const div = document.createElement('div');\n",
              "      const label = document.createElement('label');\n",
              "      label.textContent = `Downloading \"${filename}\": `;\n",
              "      div.appendChild(label);\n",
              "      const progress = document.createElement('progress');\n",
              "      progress.max = size;\n",
              "      div.appendChild(progress);\n",
              "      document.body.appendChild(div);\n",
              "\n",
              "      const buffers = [];\n",
              "      let downloaded = 0;\n",
              "\n",
              "      const channel = await google.colab.kernel.comms.open(id);\n",
              "      // Send a message to notify the kernel that we're ready.\n",
              "      channel.send({})\n",
              "\n",
              "      for await (const message of channel.messages) {\n",
              "        // Send a message to notify the kernel that we're ready.\n",
              "        channel.send({})\n",
              "        if (message.buffers) {\n",
              "          for (const buffer of message.buffers) {\n",
              "            buffers.push(buffer);\n",
              "            downloaded += buffer.byteLength;\n",
              "            progress.value = downloaded;\n",
              "          }\n",
              "        }\n",
              "      }\n",
              "      const blob = new Blob(buffers, {type: 'application/binary'});\n",
              "      const a = document.createElement('a');\n",
              "      a.href = window.URL.createObjectURL(blob);\n",
              "      a.download = filename;\n",
              "      div.appendChild(a);\n",
              "      a.click();\n",
              "      div.remove();\n",
              "    }\n",
              "  "
            ]
          },
          "metadata": {}
        },
        {
          "output_type": "display_data",
          "data": {
            "text/plain": [
              "<IPython.core.display.Javascript object>"
            ],
            "application/javascript": [
              "download(\"download_754f8e2b-f818-4c46-99e6-66232de46199\", \"capstone_b_all_folders.zip\", 114599853)"
            ]
          },
          "metadata": {}
        }
      ]
    }
  ]
}